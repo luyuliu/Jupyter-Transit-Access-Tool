{
 "cells": [
  {
   "cell_type": "code",
   "execution_count": 1,
   "metadata": {},
   "outputs": [],
   "source": [
    "# Environment: conda python 3.7\n",
    "\n",
    "from DijkstraSolver import DijkstraSolver, singleAccessibilitySolve\n",
    "from BasicSolver import BasicSolver\n",
    "basicSolver = BasicSolver()\n",
    "\n",
    "walkingDistanceLimit = 700\n",
    "timeDeltaLimit = 180 * 60\n",
    "walkingSpeed = 1.4\n",
    "isRealTime = True"
   ]
  },
  {
   "cell_type": "code",
   "execution_count": 2,
   "metadata": {},
   "outputs": [
    {
     "name": "stdout",
     "output_type": "stream",
     "text": [
      "------ Retrospective Timetable Routing Running... ------\n"
     ]
    },
    {
     "data": {
      "application/vnd.jupyter.widget-view+json": {
       "model_id": "c7ebb53bcbb44a72ac261f945da12a84",
       "version_major": 2,
       "version_minor": 0
      },
      "text/plain": [
       "  0%|          | 0/3082 [00:00<?, ?it/s]"
      ]
     },
     "metadata": {},
     "output_type": "display_data"
    },
    {
     "name": "stdout",
     "output_type": "stream",
     "text": [
      "------ Retrospective Timetable Routing Finished... ------\n",
      "------ Scheduled Timetable Routing Running... ------\n"
     ]
    },
    {
     "data": {
      "application/vnd.jupyter.widget-view+json": {
       "model_id": "51f4b97d6f5547f5a8804f8767687549",
       "version_major": 2,
       "version_minor": 0
      },
      "text/plain": [
       "  0%|          | 0/3082 [00:00<?, ?it/s]"
      ]
     },
     "metadata": {},
     "output_type": "display_data"
    },
    {
     "name": "stdout",
     "output_type": "stream",
     "text": [
      "------ Scheduled Timetable Routing Finished... ------\n"
     ]
    }
   ],
   "source": [
    "# Calculating OD matrix\n",
    "startLocation = {\n",
    "    \"stop_lat\": 39.963596, \n",
    "    \"stop_lon\": -83.000944\n",
    "}\n",
    "timestamp = 1573942335\n",
    "args = {\n",
    "    \"timestamp\": timestamp, \n",
    "    \"walkingDistanceLimit\": walkingDistanceLimit, \n",
    "    \"timeDeltaLimit\": timeDeltaLimit, \n",
    "    \"walkingSpeed\": walkingSpeed, \n",
    "    \"isRealTime\": isRealTime, \n",
    "}\n",
    "\n",
    "solver, results = singleAccessibilitySolve(args, startLocation)\n"
   ]
  },
  {
   "cell_type": "code",
   "execution_count": 22,
   "metadata": {},
   "outputs": [
    {
     "data": {
      "application/vnd.jupyter.widget-view+json": {
       "model_id": "7fa8f1b1e12c48bcb634c172921f16c7",
       "version_major": 2,
       "version_minor": 0
      },
      "text/plain": [
       "  0%|          | 0/23 [00:00<?, ?it/s]"
      ]
     },
     "metadata": {},
     "output_type": "display_data"
    },
    {
     "data": {
      "application/vnd.jupyter.widget-view+json": {
       "model_id": "be4aedd8f28f48a49aa3ac43e4b0c7ec",
       "version_major": 2,
       "version_minor": 0
      },
      "text/plain": [
       "Map(center=[39.963596, -83.000944], controls=(ZoomControl(options=['position', 'zoom_in_text', 'zoom_in_title'…"
      ]
     },
     "metadata": {},
     "output_type": "display_data"
    },
    {
     "name": "stdout",
     "output_type": "stream",
     "text": [
      "{'name': 'value', 'old': 30, 'new': 35, 'owner': IntSlider(value=35, max=120, min=5, step=5), 'type': 'change'}\n",
      "{'name': 'value', 'old': 35, 'new': 40, 'owner': IntSlider(value=40, max=120, min=5, step=5), 'type': 'change'}\n",
      "{'name': 'value', 'old': 40, 'new': 45, 'owner': IntSlider(value=45, max=120, min=5, step=5), 'type': 'change'}\n",
      "{'name': 'value', 'old': 45, 'new': 50, 'owner': IntSlider(value=50, max=120, min=5, step=5), 'type': 'change'}\n",
      "{'name': 'value', 'old': 50, 'new': 55, 'owner': IntSlider(value=55, max=120, min=5, step=5), 'type': 'change'}\n",
      "{'name': 'value', 'old': 55, 'new': 60, 'owner': IntSlider(value=60, max=120, min=5, step=5), 'type': 'change'}\n",
      "{'name': 'value', 'old': 60, 'new': 65, 'owner': IntSlider(value=65, max=120, min=5, step=5), 'type': 'change'}\n",
      "{'name': 'value', 'old': 65, 'new': 70, 'owner': IntSlider(value=70, max=120, min=5, step=5), 'type': 'change'}\n",
      "{'name': 'value', 'old': 70, 'new': 75, 'owner': IntSlider(value=75, max=120, min=5, step=5), 'type': 'change'}\n",
      "{'name': 'value', 'old': 75, 'new': 80, 'owner': IntSlider(value=80, max=120, min=5, step=5), 'type': 'change'}\n",
      "{'name': 'value', 'old': 80, 'new': 85, 'owner': IntSlider(value=85, max=120, min=5, step=5), 'type': 'change'}\n",
      "{'name': 'value', 'old': 85, 'new': 80, 'owner': IntSlider(value=80, max=120, min=5, step=5), 'type': 'change'}\n",
      "{'name': 'value', 'old': 80, 'new': 75, 'owner': IntSlider(value=75, max=120, min=5, step=5), 'type': 'change'}\n",
      "{'name': 'value', 'old': 75, 'new': 65, 'owner': IntSlider(value=65, max=120, min=5, step=5), 'type': 'change'}\n",
      "{'name': 'value', 'old': 65, 'new': 60, 'owner': IntSlider(value=60, max=120, min=5, step=5), 'type': 'change'}\n",
      "{'name': 'value', 'old': 60, 'new': 55, 'owner': IntSlider(value=55, max=120, min=5, step=5), 'type': 'change'}\n",
      "{'name': 'value', 'old': 55, 'new': 50, 'owner': IntSlider(value=50, max=120, min=5, step=5), 'type': 'change'}\n",
      "{'name': 'value', 'old': 50, 'new': 45, 'owner': IntSlider(value=45, max=120, min=5, step=5), 'type': 'change'}\n",
      "{'name': 'value', 'old': 45, 'new': 40, 'owner': IntSlider(value=40, max=120, min=5, step=5), 'type': 'change'}\n",
      "{'name': 'value', 'old': 40, 'new': 35, 'owner': IntSlider(value=35, max=120, min=5, step=5), 'type': 'change'}\n",
      "{'name': 'value', 'old': 35, 'new': 30, 'owner': IntSlider(value=30, max=120, min=5, step=5), 'type': 'change'}\n",
      "{'name': 'value', 'old': 30, 'new': 25, 'owner': IntSlider(value=25, max=120, min=5, step=5), 'type': 'change'}\n",
      "{'name': 'value', 'old': 25, 'new': 20, 'owner': IntSlider(value=20, max=120, min=5, step=5), 'type': 'change'}\n",
      "{'name': 'value', 'old': 20, 'new': 15, 'owner': IntSlider(value=15, max=120, min=5, step=5), 'type': 'change'}\n",
      "{'name': 'value', 'old': 15, 'new': 10, 'owner': IntSlider(value=10, max=120, min=5, step=5), 'type': 'change'}\n",
      "{'name': 'value', 'old': 10, 'new': 5, 'owner': IntSlider(value=5, max=120, min=5, step=5), 'type': 'change'}\n",
      "{'name': 'value', 'old': 5, 'new': 10, 'owner': IntSlider(value=10, max=120, min=5, step=5), 'type': 'change'}\n",
      "{'name': 'value', 'old': 10, 'new': 15, 'owner': IntSlider(value=15, max=120, min=5, step=5), 'type': 'change'}\n",
      "{'name': 'value', 'old': 15, 'new': 20, 'owner': IntSlider(value=20, max=120, min=5, step=5), 'type': 'change'}\n",
      "{'name': 'value', 'old': 20, 'new': 25, 'owner': IntSlider(value=25, max=120, min=5, step=5), 'type': 'change'}\n",
      "{'name': 'value', 'old': 25, 'new': 30, 'owner': IntSlider(value=30, max=120, min=5, step=5), 'type': 'change'}\n",
      "{'name': 'value', 'old': 30, 'new': 35, 'owner': IntSlider(value=35, max=120, min=5, step=5), 'type': 'change'}\n",
      "{'name': 'value', 'old': 35, 'new': 40, 'owner': IntSlider(value=40, max=120, min=5, step=5), 'type': 'change'}\n",
      "{'name': 'value', 'old': 40, 'new': 45, 'owner': IntSlider(value=45, max=120, min=5, step=5), 'type': 'change'}\n",
      "{'name': 'value', 'old': 45, 'new': 50, 'owner': IntSlider(value=50, max=120, min=5, step=5), 'type': 'change'}\n",
      "{'name': 'value', 'old': 50, 'new': 55, 'owner': IntSlider(value=55, max=120, min=5, step=5), 'type': 'change'}\n",
      "{'name': 'value', 'old': 55, 'new': 60, 'owner': IntSlider(value=60, max=120, min=5, step=5), 'type': 'change'}\n",
      "{'name': 'value', 'old': 60, 'new': 55, 'owner': IntSlider(value=55, max=120, min=5, step=5), 'type': 'change'}\n",
      "{'name': 'value', 'old': 55, 'new': 50, 'owner': IntSlider(value=50, max=120, min=5, step=5), 'type': 'change'}\n",
      "{'name': 'value', 'old': 50, 'new': 55, 'owner': IntSlider(value=55, max=120, min=5, step=5), 'type': 'change'}\n",
      "{'name': 'value', 'old': 55, 'new': 60, 'owner': IntSlider(value=60, max=120, min=5, step=5), 'type': 'change'}\n",
      "{'name': 'value', 'old': 60, 'new': 70, 'owner': IntSlider(value=70, max=120, min=5, step=5), 'type': 'change'}\n",
      "{'name': 'value', 'old': 70, 'new': 75, 'owner': IntSlider(value=75, max=120, min=5, step=5), 'type': 'change'}\n",
      "{'name': 'value', 'old': 75, 'new': 80, 'owner': IntSlider(value=80, max=120, min=5, step=5), 'type': 'change'}\n",
      "{'name': 'value', 'old': 80, 'new': 85, 'owner': IntSlider(value=85, max=120, min=5, step=5), 'type': 'change'}\n",
      "{'name': 'value', 'old': 85, 'new': 90, 'owner': IntSlider(value=90, max=120, min=5, step=5), 'type': 'change'}\n",
      "{'name': 'value', 'old': 90, 'new': 95, 'owner': IntSlider(value=95, max=120, min=5, step=5), 'type': 'change'}\n"
     ]
    }
   ],
   "source": [
    "# Produce buffers\n",
    "from shapely.geometry import Point, mapping\n",
    "import json\n",
    "import pandas as pd\n",
    "import geopandas as gpd\n",
    "from tqdm.notebook import tqdm\n",
    "timeBudgetList = list(range(5,120,5))\n",
    "\n",
    "columnsHead = [\"lat\", \"lon\"]\n",
    "for timeBudget in timeBudgetList:\n",
    "    columnsHead.append(\"R_\" + str(timeBudget))\n",
    "\n",
    "parameterList = []\n",
    "for receivingStopID, ODRecord in (results.items()):\n",
    "    insertRecord = [float(ODRecord[\"stop_lat\"]), float(ODRecord[\"stop_lon\"])]\n",
    "    for timeBudget in timeBudgetList: \n",
    "        radius = int(max(min((timeBudget * 60 - ODRecord[\"timeSC\"]) * walkingSpeed, walkingDistanceLimit), 0))\n",
    "        insertRecord.append(radius)\n",
    "    parameterList.append(insertRecord)\n",
    "\n",
    "geojsonList = {}\n",
    "df = pd.DataFrame(parameterList, columns = columnsHead)\n",
    "geometry = [Point(xy) for xy in zip(df.lon, df.lat)]\n",
    "df = df.drop(['lon', 'lat'], axis=1)\n",
    "gdf = gpd.GeoDataFrame(df, crs=\"EPSG:4326\", geometry=geometry)\n",
    "gdf_p = gdf.to_crs(\"EPSG:32123\")\n",
    "for timeBudget in tqdm(timeBudgetList):\n",
    "    buffers = gdf_p.buffer(distance=df[\"R_\" + str(timeBudget)])\n",
    "    buffers_p = buffers.to_crs(\"EPSG:4326\")\n",
    "    buffer_gdf = gpd.GeoDataFrame(geometry=buffers_p)\n",
    "    buffer_gdf = buffer_gdf.dissolve()\n",
    "    geo_json = json.loads(buffer_gdf.to_json())\n",
    "    geojsonLayer = GeoJSON(\n",
    "        data=geo_json\n",
    "    )\n",
    "    geojsonList[\"R_\" + str(timeBudget)] = geojsonLayer\n",
    "\n",
    "# Visualizae PPA\n",
    "from ipyleaflet import Map, basemaps, Circle, WidgetControl, GeoJSON, LayerGroup\n",
    "from ipywidgets import IntSlider, ColorPicker, jslink\n",
    "\n",
    "defaultTimeBudget = 30\n",
    "timeBudgetBackup = defaultTimeBudget\n",
    "\n",
    "m = Map(basemap=basemaps.OpenStreetMap.Mapnik, center=(39.963596, -83.000944), zoom=11)\n",
    "slider = IntSlider(min=5, max=120, step=5, value=defaultTimeBudget, continuous_update=True)\n",
    "slider.observe(onChange, names='value')\n",
    "m.add_layer(geojsonList[\"R_\" + str(defaultTimeBudget)])\n",
    "\n",
    "def onChange(e):\n",
    "    timeBudget = int(e[\"new\"])\n",
    "    oldTimeBudget = int(e[\"old\"])\n",
    "    m.remove_layer(geojsonList[\"R_\" + str(oldTimeBudget)])\n",
    "    m.add_layer(geojsonList[\"R_\" + str(timeBudget)])\n",
    "\n",
    "\n",
    "widget_control1 = WidgetControl(widget=slider, position='topright')\n",
    "m.add_control(widget_control1)\n",
    "\n",
    "m\n"
   ]
  },
  {
   "cell_type": "code",
   "execution_count": null,
   "metadata": {},
   "outputs": [],
   "source": []
  },
  {
   "cell_type": "code",
   "execution_count": null,
   "metadata": {},
   "outputs": [],
   "source": []
  }
 ],
 "metadata": {
  "kernelspec": {
   "display_name": "Python 3 (ipykernel)",
   "language": "python",
   "name": "python3"
  },
  "language_info": {
   "codemirror_mode": {
    "name": "ipython",
    "version": 3
   },
   "file_extension": ".py",
   "mimetype": "text/x-python",
   "name": "python",
   "nbconvert_exporter": "python",
   "pygments_lexer": "ipython3",
   "version": "3.10.0"
  }
 },
 "nbformat": 4,
 "nbformat_minor": 2
}
