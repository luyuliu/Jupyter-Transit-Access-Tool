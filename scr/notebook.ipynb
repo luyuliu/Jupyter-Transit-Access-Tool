{
 "cells": [
  {
   "cell_type": "code",
   "execution_count": 1,
   "metadata": {},
   "outputs": [],
   "source": [
    "# Environment: conda python 3.10\n",
    "\n",
    "from DijkstraSolver import DijkstraSolver, singleAccessibilitySolve\n",
    "from BasicSolver import BasicSolver\n",
    "basicSolver = BasicSolver()\n",
    "\n",
    "walkingDistanceLimit = 700\n",
    "timeDeltaLimit = 180 * 60\n",
    "walkingSpeed = 1.4\n",
    "isRealTime = True"
   ]
  },
  {
   "cell_type": "code",
   "execution_count": 2,
   "metadata": {},
   "outputs": [
    {
     "name": "stdout",
     "output_type": "stream",
     "text": [
      "------ Retrospective Timetable Routing Running... ------\n"
     ]
    },
    {
     "data": {
      "application/vnd.jupyter.widget-view+json": {
       "model_id": "58c855cf356d4ac681aaa5f1ef7ea802",
       "version_major": 2,
       "version_minor": 0
      },
      "text/plain": [
       "  0%|          | 0/3082 [00:00<?, ?it/s]"
      ]
     },
     "metadata": {},
     "output_type": "display_data"
    },
    {
     "name": "stdout",
     "output_type": "stream",
     "text": [
      "------ Retrospective Timetable Routing Finished... ------\n",
      "------ Scheduled Timetable Routing Running... ------\n"
     ]
    },
    {
     "data": {
      "application/vnd.jupyter.widget-view+json": {
       "model_id": "3cee3c96916b4af0b8b400f96e326fb5",
       "version_major": 2,
       "version_minor": 0
      },
      "text/plain": [
       "  0%|          | 0/3082 [00:00<?, ?it/s]"
      ]
     },
     "metadata": {},
     "output_type": "display_data"
    },
    {
     "name": "stdout",
     "output_type": "stream",
     "text": [
      "------ Scheduled Timetable Routing Finished... ------\n",
      "------ Realizable Timetable Routing Running... ------\n",
      "------ Realizable Timetable Routing Finished... ------\n"
     ]
    }
   ],
   "source": [
    "# Calculating OD matrix\n",
    "startLocation = {\n",
    "    \"stop_lat\": 39.963596, \n",
    "    \"stop_lon\": -83.000944\n",
    "}\n",
    "timestamp = 1573942335\n",
    "args = {\n",
    "    \"timestamp\": timestamp, \n",
    "    \"walkingDistanceLimit\": walkingDistanceLimit, \n",
    "    \"timeDeltaLimit\": timeDeltaLimit, \n",
    "    \"walkingSpeed\": walkingSpeed, \n",
    "    \"isRealTime\": isRealTime, \n",
    "}\n",
    "\n",
    "solver, results = singleAccessibilitySolve(args, startLocation)\n"
   ]
  },
  {
   "cell_type": "code",
   "execution_count": 9,
   "metadata": {},
   "outputs": [
    {
     "data": {
      "application/vnd.jupyter.widget-view+json": {
       "model_id": "12d1e88b96464592922ffae61f10a476",
       "version_major": 2,
       "version_minor": 0
      },
      "text/plain": [
       "  0%|          | 0/3 [00:00<?, ?it/s]"
      ]
     },
     "metadata": {},
     "output_type": "display_data"
    },
    {
     "data": {
      "application/vnd.jupyter.widget-view+json": {
       "model_id": "5013d4cec5894c9eaba025e28390b064",
       "version_major": 2,
       "version_minor": 0
      },
      "text/plain": [
       "  0%|          | 0/24 [00:00<?, ?it/s]"
      ]
     },
     "metadata": {},
     "output_type": "display_data"
    },
    {
     "data": {
      "application/vnd.jupyter.widget-view+json": {
       "model_id": "0e12f59e621d4c8f9582badc25301371",
       "version_major": 2,
       "version_minor": 0
      },
      "text/plain": [
       "  0%|          | 0/24 [00:00<?, ?it/s]"
      ]
     },
     "metadata": {},
     "output_type": "display_data"
    },
    {
     "data": {
      "application/vnd.jupyter.widget-view+json": {
       "model_id": "c69a70913251460e93c0e119679e2244",
       "version_major": 2,
       "version_minor": 0
      },
      "text/plain": [
       "  0%|          | 0/24 [00:00<?, ?it/s]"
      ]
     },
     "metadata": {},
     "output_type": "display_data"
    },
    {
     "data": {
      "application/vnd.jupyter.widget-view+json": {
       "model_id": "8f74e3eb94f344bca32cd25800fcfe92",
       "version_major": 2,
       "version_minor": 0
      },
      "text/plain": [
       "Map(center=[39.963596, -83.000944], controls=(ZoomControl(options=['position', 'zoom_in_text', 'zoom_in_title'…"
      ]
     },
     "metadata": {},
     "output_type": "display_data"
    }
   ],
   "source": [
    "# Produce buffers\n",
    "from ipyleaflet import GeoJSON, Map\n",
    "from ipywidgets import IntSlider\n",
    "from shapely.geometry import Point, mapping\n",
    "import json, sys\n",
    "import pandas as pd\n",
    "import geopandas as gpd\n",
    "from tqdm.notebook import tqdm\n",
    "timeBudgetList = list(range(5,121,5))\n",
    "typeIDList = [\"SC\", \"RT\", \"RV\"]\n",
    "colorList = [\"blue\", \"green\", \"orange\"]\n",
    "colorDic = {}\n",
    "\n",
    "for index in range(len(typeIDList)):\n",
    "    colorDic[typeIDList[index]] = colorList[index]\n",
    "\n",
    "columnsHead = [\"lat\", \"lon\"]\n",
    "for typeID in typeIDList:\n",
    "    for timeBudget in timeBudgetList:\n",
    "        columnsHead.append(typeID + \"_\" + str(timeBudget))\n",
    "\n",
    "parameterList = []\n",
    "for receivingStopID, ODRecord in (results.items()):\n",
    "    insertRecord = [float(ODRecord[\"stop_lat\"]), float(ODRecord[\"stop_lon\"])]\n",
    "    for typeID in typeIDList:\n",
    "        for timeBudget in timeBudgetList:\n",
    "            if ODRecord[\"time\" + typeID] == None:\n",
    "                ODRecord[\"time\" + typeID] = sys.maxsize\n",
    "            radius = int(max(min((timeBudget * 60 - ODRecord[\"time\" + typeID]) * walkingSpeed, walkingDistanceLimit), 0))\n",
    "            insertRecord.append(radius)\n",
    "    parameterList.append(insertRecord)\n",
    "\n",
    "geojsonList = {}\n",
    "df = pd.DataFrame(parameterList, columns = columnsHead)\n",
    "geometry = [Point(xy) for xy in zip(df.lon, df.lat)]\n",
    "df = df.drop(['lon', 'lat'], axis=1)\n",
    "gdf = gpd.GeoDataFrame(df, crs=\"EPSG:4326\", geometry=geometry)\n",
    "gdf_p = gdf.to_crs(\"EPSG:32123\")\n",
    "for typeID in tqdm(typeIDList, position =0):\n",
    "    for timeBudget in tqdm(timeBudgetList, position = 1):\n",
    "        buffers = gdf_p.buffer(distance=df[typeID + \"_\" + str(timeBudget)])\n",
    "        buffers_p = buffers.to_crs(\"EPSG:4326\")\n",
    "        buffer_gdf = gpd.GeoDataFrame(geometry=buffers_p)\n",
    "        buffer_gdf = buffer_gdf.dissolve()\n",
    "        geo_json = json.loads(buffer_gdf.to_json())\n",
    "        \n",
    "        geojsonLayer = GeoJSON(\n",
    "            data=geo_json,\n",
    "            style={\n",
    "                \"opacity\": 1, \"color\": colorDic[typeID], \"fillOpacity\": 0.1, \"fillColor\": colorDic[typeID]\n",
    "            }\n",
    "        )\n",
    "        geojsonList[typeID + \"_\" + str(timeBudget)] = geojsonLayer\n",
    "\n",
    "# Visualizae PPA\n",
    "from ipyleaflet import Map, basemaps, Circle, WidgetControl, GeoJSON, LayerGroup\n",
    "from ipywidgets import IntSlider, ColorPicker, jslink\n",
    "\n",
    "defaultTimeBudget = 30\n",
    "timeBudgetBackup = defaultTimeBudget\n",
    "\n",
    "def onChange(e):\n",
    "    timeBudget = int(e[\"new\"])\n",
    "    oldTimeBudget = int(e[\"old\"])\n",
    "    for typeID in typeIDList:\n",
    "        m.add_layer(geojsonList[typeID + \"_\" + str(timeBudget)])\n",
    "        m.remove_layer(geojsonList[typeID + \"_\" + str(oldTimeBudget)])\n",
    "        \n",
    "m = Map(basemap=basemaps.OpenStreetMap.Mapnik, center=(39.963596, -83.000944), zoom=11)\n",
    "slider = IntSlider(min=5, max=120, step=5, value=defaultTimeBudget, continuous_update=True)\n",
    "slider.observe(onChange, names='value')\n",
    "\n",
    "for typeID in typeIDList:\n",
    "    m.add_layer(geojsonList[typeID + \"_\" + str(defaultTimeBudget)])\n",
    "\n",
    "\n",
    "\n",
    "widget_control1 = WidgetControl(widget=slider, position='topright')\n",
    "m.add_control(widget_control1)\n",
    "\n",
    "m\n"
   ]
  },
  {
   "cell_type": "code",
   "execution_count": null,
   "metadata": {},
   "outputs": [],
   "source": []
  },
  {
   "cell_type": "code",
   "execution_count": null,
   "metadata": {},
   "outputs": [],
   "source": []
  }
 ],
 "metadata": {
  "kernelspec": {
   "display_name": "Python 3 (ipykernel)",
   "language": "python",
   "name": "python3"
  },
  "language_info": {
   "codemirror_mode": {
    "name": "ipython",
    "version": 3
   },
   "file_extension": ".py",
   "mimetype": "text/x-python",
   "name": "python",
   "nbconvert_exporter": "python",
   "pygments_lexer": "ipython3",
   "version": "3.10.0"
  }
 },
 "nbformat": 4,
 "nbformat_minor": 2
}
