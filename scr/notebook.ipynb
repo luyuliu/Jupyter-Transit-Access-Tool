{
 "cells": [
  {
   "cell_type": "code",
   "execution_count": 1,
   "metadata": {},
   "outputs": [],
   "source": [
    "from DijkstraSolver import DijkstraSolver, singleAccessibilitySolve\n",
    "from BasicSolver import BasicSolver\n",
    "basicSolver = BasicSolver()\n",
    "\n",
    "walkingDistanceLimit = 700\n",
    "timeDeltaLimit = 180 * 60\n",
    "walkingSpeed = 1.4\n",
    "isRealTime = True"
   ]
  },
  {
   "cell_type": "code",
   "execution_count": 2,
   "metadata": {},
   "outputs": [
    {
     "name": "stdout",
     "output_type": "stream",
     "text": [
      "------ Retrospective Timetable Routing Running... ------\n"
     ]
    },
    {
     "data": {
      "application/vnd.jupyter.widget-view+json": {
       "model_id": "2facc48c9a08469c9724e7f9e2b03c15",
       "version_major": 2,
       "version_minor": 0
      },
      "text/plain": [
       "HBox(children=(IntProgress(value=0, max=3082), HTML(value='')))"
      ]
     },
     "metadata": {},
     "output_type": "display_data"
    },
    {
     "name": "stdout",
     "output_type": "stream",
     "text": [
      "------ Retrospective Timetable Routing Finished... ------\n",
      "------ Scheduled Timetable Routing Running... ------\n"
     ]
    },
    {
     "data": {
      "application/vnd.jupyter.widget-view+json": {
       "model_id": "dcd28eab99f6487bbf8db17491e45bcb",
       "version_major": 2,
       "version_minor": 0
      },
      "text/plain": [
       "HBox(children=(IntProgress(value=0, max=3082), HTML(value='')))"
      ]
     },
     "metadata": {},
     "output_type": "display_data"
    },
    {
     "name": "stdout",
     "output_type": "stream",
     "text": [
      "------ Scheduled Timetable Routing Finished... ------\n"
     ]
    }
   ],
   "source": [
    "# Calculating OD matrix\n",
    "startLocation = {\n",
    "    \"stop_lat\": 39.963596, \n",
    "    \"stop_lon\": -83.000944\n",
    "}\n",
    "timestamp = 1573942335\n",
    "args = {\n",
    "    \"timestamp\": timestamp, \n",
    "    \"walkingDistanceLimit\": walkingDistanceLimit, \n",
    "    \"timeDeltaLimit\": timeDeltaLimit, \n",
    "    \"walkingSpeed\": walkingSpeed, \n",
    "    \"isRealTime\": isRealTime, \n",
    "}\n",
    "\n",
    "solver, results = singleAccessibilitySolve(args, startLocation)\n"
   ]
  },
  {
   "cell_type": "code",
   "execution_count": 5,
   "metadata": {
    "scrolled": true
   },
   "outputs": [
    {
     "data": {
      "application/vnd.jupyter.widget-view+json": {
       "model_id": "091a574502b54b53bf1c3722330efa42",
       "version_major": 2,
       "version_minor": 0
      },
      "text/plain": [
       "Map(center=[39.963596, -83.000944], controls=(ZoomControl(options=['position', 'zoom_in_text', 'zoom_in_title'…"
      ]
     },
     "metadata": {},
     "output_type": "display_data"
    }
   ],
   "source": [
    "# Visualizae PPA\n",
    "from ipyleaflet import Map, basemaps, Circle, WidgetControl, GeoJSON, LayerGroup\n",
    "from ipywidgets import IntSlider, ColorPicker, jslink\n",
    "\n",
    "timeBudget = 30\n",
    "m = Map(basemap=basemaps.OpenStreetMap.Mapnik, center=(39.963596, -83.000944), zoom=11)\n",
    "slider = IntSlider(description='Time budget:', min=5, max=120, value=timeBudget)\n",
    "circleList = []\n",
    "for receivingStopID, ODRecord in results.items():\n",
    "    radius = int(max(min((timeBudget * 60 - ODRecord[\"timeSC\"]) * walkingSpeed, walkingDistanceLimit), 0))     \n",
    "    circle = Circle()\n",
    "    circle.location = (ODRecord[\"stop_lat\"], ODRecord[\"stop_lon\"])\n",
    "    circle.radius = int(radius)\n",
    "    circle.color = \"black\"\n",
    "    circle.stroke = False\n",
    "    circle.fill_opacity = 1\n",
    "    circle.fill_color = \"green\"\n",
    "    circleList.append(circle)\n",
    "    m.add_layer(circle)\n",
    "\n",
    "def onChange(e):\n",
    "    timeBudget = int(e[\"new\"])\n",
    "    for receivingStopIndex in range(len(results.keys())):\n",
    "        receivingStopID = list(results.keys())[receivingStopIndex]\n",
    "        ODRecord = results[receivingStopID]\n",
    "        radius = int(max(min((timeBudget * 60 - ODRecord[\"timeSC\"]) * walkingSpeed, walkingDistanceLimit), 0))\n",
    "        circleList[receivingStopIndex].radius = radius\n",
    "\n",
    "slider = IntSlider(min=5, max=120, value=timeBudget, continuous_update=False)\n",
    "slider.observe(onChange, names='value')\n",
    "\n",
    "widget_control1 = WidgetControl(widget=slider, position='topright')\n",
    "m.add_control(widget_control1)\n",
    "\n",
    "m\n"
   ]
  },
  {
   "cell_type": "code",
   "execution_count": null,
   "metadata": {},
   "outputs": [],
   "source": []
  }
 ],
 "metadata": {
  "kernelspec": {
   "display_name": "Python 3",
   "language": "python",
   "name": "python3"
  },
  "language_info": {
   "codemirror_mode": {
    "name": "ipython",
    "version": 3
   },
   "file_extension": ".py",
   "mimetype": "text/x-python",
   "name": "python",
   "nbconvert_exporter": "python",
   "pygments_lexer": "ipython3",
   "version": "3.7.4"
  }
 },
 "nbformat": 4,
 "nbformat_minor": 2
}
