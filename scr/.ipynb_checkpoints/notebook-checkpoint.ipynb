{
 "cells": [
  {
   "cell_type": "code",
   "execution_count": 2,
   "metadata": {},
   "outputs": [],
   "source": [
    "# Environment: minconda python 3.9.7\n",
    "\n",
    "from DijkstraSolver import DijkstraSolver, singleAccessibilitySolve\n",
    "from BasicSolver import BasicSolver\n",
    "basicSolver = BasicSolver()\n",
    "\n",
    "walkingDistanceLimit = 700\n",
    "timeDeltaLimit = 180 * 60\n",
    "walkingSpeed = 1.4\n",
    "isRealTime = True"
   ]
  },
  {
   "cell_type": "code",
   "execution_count": 3,
   "metadata": {},
   "outputs": [
    {
     "name": "stdout",
     "output_type": "stream",
     "text": [
      "------ Retrospective Timetable Routing Running... ------\n"
     ]
    },
    {
     "data": {
      "application/vnd.jupyter.widget-view+json": {
       "model_id": "e184b22e53504d2b94a254817b710481",
       "version_major": 2,
       "version_minor": 0
      },
      "text/plain": [
       "  0%|          | 0/3056 [00:00<?, ?it/s]"
      ]
     },
     "metadata": {},
     "output_type": "display_data"
    },
    {
     "name": "stdout",
     "output_type": "stream",
     "text": [
      "------ Retrospective Timetable Routing Finished... ------\n",
      "------ Scheduled Timetable Routing Running... ------\n"
     ]
    },
    {
     "data": {
      "application/vnd.jupyter.widget-view+json": {
       "model_id": "fe9e35db2f894bab9743db7c06e87ff9",
       "version_major": 2,
       "version_minor": 0
      },
      "text/plain": [
       "  0%|          | 0/3056 [00:00<?, ?it/s]"
      ]
     },
     "metadata": {},
     "output_type": "display_data"
    },
    {
     "name": "stdout",
     "output_type": "stream",
     "text": [
      "------ Scheduled Timetable Routing Finished... ------\n",
      "------ Realizable Timetable Routing Running... ------\n",
      "------ Realizable Timetable Routing Finished... ------\n"
     ]
    }
   ],
   "source": [
    "# Calculating OD matrix\n",
    "startLocation = {\n",
    "    \"stop_lat\": 39.963596, \n",
    "    \"stop_lon\": -83.000944\n",
    "}\n",
    "timestamp = 1517490000\n",
    "args = {\n",
    "    \"timestamp\": timestamp, \n",
    "    \"walkingDistanceLimit\": walkingDistanceLimit, \n",
    "    \"timeDeltaLimit\": timeDeltaLimit, \n",
    "    \"walkingSpeed\": walkingSpeed, \n",
    "    \"isRealTime\": isRealTime, \n",
    "}\n",
    "\n",
    "solver, results = singleAccessibilitySolve(args, startLocation)\n"
   ]
  },
  {
   "cell_type": "code",
   "execution_count": 4,
   "metadata": {},
   "outputs": [
    {
     "data": {
      "application/vnd.jupyter.widget-view+json": {
       "model_id": "a537c92f5e7443fdbb6a06df4b8110c6",
       "version_major": 2,
       "version_minor": 0
      },
      "text/plain": [
       "  0%|          | 0/3 [00:00<?, ?it/s]"
      ]
     },
     "metadata": {},
     "output_type": "display_data"
    },
    {
     "data": {
      "application/vnd.jupyter.widget-view+json": {
       "model_id": "3772105a8df243e08e791340613b7f0f",
       "version_major": 2,
       "version_minor": 0
      },
      "text/plain": [
       "  0%|          | 0/24 [00:00<?, ?it/s]"
      ]
     },
     "metadata": {},
     "output_type": "display_data"
    },
    {
     "data": {
      "application/vnd.jupyter.widget-view+json": {
       "model_id": "286bbf0740bc4db68c43b4a0e7851c7f",
       "version_major": 2,
       "version_minor": 0
      },
      "text/plain": [
       "  0%|          | 0/24 [00:00<?, ?it/s]"
      ]
     },
     "metadata": {},
     "output_type": "display_data"
    },
    {
     "data": {
      "application/vnd.jupyter.widget-view+json": {
       "model_id": "911d8d3cb857423a95e07029bd14e468",
       "version_major": 2,
       "version_minor": 0
      },
      "text/plain": [
       "  0%|          | 0/24 [00:00<?, ?it/s]"
      ]
     },
     "metadata": {},
     "output_type": "display_data"
    },
    {
     "data": {
      "application/vnd.jupyter.widget-view+json": {
       "model_id": "7d336b24843a400e8b0fb64c8f217e4d",
       "version_major": 2,
       "version_minor": 0
      },
      "text/plain": [
       "Map(center=[39.963596, -83.000944], controls=(ZoomControl(options=['position', 'zoom_in_text', 'zoom_in_title'…"
      ]
     },
     "metadata": {},
     "output_type": "display_data"
    }
   ],
   "source": [
    "# Produce buffers\n",
    "location = r\"D:\\CURA\\GRA\\ACCESS\\data\"\n",
    "location = r\"C:\\Users\\liu.6544\\Downloads\\data\"\n",
    "from ipyleaflet import GeoJSON, Map\n",
    "from ipywidgets import IntSlider\n",
    "from shapely.geometry import Point, mapping\n",
    "import json, sys\n",
    "import pandas as pd\n",
    "import geopandas as gpd\n",
    "from tqdm.notebook import tqdm\n",
    "timeBudgetList = list(range(5,121,5))\n",
    "typeIDList = [\"SC\", \"RT\", \"RV\"]\n",
    "typeIDMeaningDic = {\n",
    "    \"SC\": \"scheduled\",\n",
    "    \"RT\": \"retrospective\",\n",
    "    \"RV\": \"realizable\"\n",
    "}\n",
    "colorList = [\"blue\", \"green\", \"orange\"]\n",
    "colorDic = {}\n",
    "\n",
    "for index in range(len(typeIDList)):\n",
    "    colorDic[typeIDList[index]] = colorList[index]\n",
    "\n",
    "columnsHead = [\"lat\", \"lon\"]\n",
    "for typeID in typeIDList:\n",
    "    for timeBudget in timeBudgetList:\n",
    "        columnsHead.append(typeID + \"_\" + str(timeBudget))\n",
    "\n",
    "parameterList = []\n",
    "for receivingStopID, ODRecord in (results.items()):\n",
    "    insertRecord = [float(ODRecord[\"stop_lat\"]), float(ODRecord[\"stop_lon\"])]\n",
    "    for typeID in typeIDList:\n",
    "        for timeBudget in timeBudgetList:\n",
    "            if ODRecord[\"time\" + typeID] == None:\n",
    "                ODRecord[\"time\" + typeID] = sys.maxsize\n",
    "            radius = int(max(min((timeBudget * 60 - ODRecord[\"time\" + typeID]) * walkingSpeed, walkingDistanceLimit), 0))\n",
    "            insertRecord.append(radius)\n",
    "    parameterList.append(insertRecord)\n",
    "\n",
    "GDFList = {}\n",
    "geojsonList = {}\n",
    "df = pd.DataFrame(parameterList, columns = columnsHead)\n",
    "geometry = [Point(xy) for xy in zip(df.lon, df.lat)]\n",
    "df = df.drop(['lon', 'lat'], axis=1)\n",
    "gdf = gpd.GeoDataFrame(df, crs=\"EPSG:4326\", geometry=geometry)\n",
    "gdf_p = gdf.to_crs(\"EPSG:32123\")\n",
    "for typeID in tqdm(typeIDList, position =0):\n",
    "    for timeBudget in tqdm(timeBudgetList, position = 1):\n",
    "        buffers = gdf_p.buffer(distance=df[typeID + \"_\" + str(timeBudget)])\n",
    "        buffers_p = buffers.to_crs(\"EPSG:4326\")\n",
    "        buffer_gdf = gpd.GeoDataFrame(geometry=buffers_p)\n",
    "        buffer_gdf = buffer_gdf.dissolve()\n",
    "        GDFList[typeID + \"_\" + str(timeBudget)] = buffer_gdf\n",
    "        geo_json = json.loads(buffer_gdf.to_json())\n",
    "        \n",
    "        geojsonLayer = GeoJSON(\n",
    "            data=geo_json,\n",
    "            style={\n",
    "                \"opacity\": 1, \"color\": colorDic[typeID], \"fillOpacity\": 0.1, \"fillColor\": colorDic[typeID]\n",
    "            }\n",
    "        )\n",
    "        geojsonList[typeID + \"_\" + str(timeBudget)] = geojsonLayer\n",
    "        buffer_gdf.to_file(location + \"\\\\PPA_\" + typeIDMeaningDic[typeID] + \"_\" + str(timeBudget) + \".gpkg\", driver=\"GPKG\")\n",
    "#         buffer_gdf.to_file(location + \"\\\\PPA_\" + typeIDMeaningDic[typeID] + \"_\" + str(timeBudget) + \".json\", driver=\"GeoJSON\")\n",
    "\n",
    "# Visualizae PPA\n",
    "from ipyleaflet import Map, basemaps, Circle, WidgetControl, GeoJSON, LayerGroup, GeoData\n",
    "from ipywidgets import IntSlider, ColorPicker, jslink\n",
    "\n",
    "defaultTimeBudget = 30\n",
    "timeBudgetBackup = defaultTimeBudget\n",
    "\n",
    "def onChange(e):\n",
    "    timeBudget = int(e[\"new\"])\n",
    "    oldTimeBudget = int(e[\"old\"])\n",
    "    for typeID in typeIDList:\n",
    "        m.add_layer(geojsonList[typeID + \"_\" + str(timeBudget)])\n",
    "        m.remove_layer(geojsonList[typeID + \"_\" + str(oldTimeBudget)])\n",
    "        \n",
    "m = Map(basemap=basemaps.OpenStreetMap.Mapnik, center=(39.963596, -83.000944), zoom=11)\n",
    "slider = IntSlider(min=5, max=120, step=5, value=defaultTimeBudget, continuous_update=True)\n",
    "slider.observe(onChange, names='value')\n",
    "\n",
    "for typeID in typeIDList:\n",
    "    m.add_layer(geojsonList[typeID + \"_\" + str(defaultTimeBudget)])\n",
    "\n",
    "\n",
    "\n",
    "widget_control1 = WidgetControl(widget=slider, position='topright')\n",
    "m.add_control(widget_control1)\n",
    "\n",
    "m\n"
   ]
  },
  {
   "cell_type": "code",
   "execution_count": 5,
   "metadata": {},
   "outputs": [
    {
     "data": {
      "text/plain": [
       "0    5.178342e+08\n",
       "dtype: float64"
      ]
     },
     "execution_count": 5,
     "metadata": {},
     "output_type": "execute_result"
    }
   ],
   "source": [
    "buffers = gdf_p.buffer(distance=df[\"SC\" + \"_120\"])\n",
    "buffer_gdf = gpd.GeoDataFrame(geometry=buffers)\n",
    "buffer_gdf = buffer_gdf.dissolve()\n",
    "buffer_gdf.area"
   ]
  },
  {
   "cell_type": "code",
   "execution_count": 6,
   "metadata": {},
   "outputs": [
    {
     "data": {
      "application/vnd.jupyter.widget-view+json": {
       "model_id": "33148c18a2ec4877812738aed1f48e0f",
       "version_major": 2,
       "version_minor": 0
      },
      "text/plain": [
       "  0%|          | 0/24 [00:00<?, ?it/s]"
      ]
     },
     "metadata": {},
     "output_type": "display_data"
    }
   ],
   "source": [
    "# Overlay analysis\n",
    "jobsGDF = gpd.read_file(r\"C:\\Users\\liu.6544\\Downloads\\data\\columbus_jobs.gpkg\", layer='Jobs')\n",
    "jobsGDFList = []\n",
    "jobsTotalNumber = len(jobsGDF)\n",
    "\n",
    "typeIDList = [\"SC\", \"RT\", \"RV\"]\n",
    "typeIDMeaningDic = {\n",
    "    \"SC\": \"scheduled\",\n",
    "    \"RT\": \"retrospective\",\n",
    "    \"RV\": \"realizable\"\n",
    "}\n",
    "opportunityDic = {}\n",
    "for typeID in typeIDList:\n",
    "    opportunityDic[typeID] = []\n",
    "for timeBudget in tqdm(timeBudgetList, position=0, leave=True):\n",
    "    for typeID in typeIDList:\n",
    "        jobsJoinedGDF = gpd.sjoin(jobsGDF, GDFList[typeID + \"_\" + str(timeBudget)], how=\"inner\", op='intersects')\n",
    "        jobsNumber = len(jobsJoinedGDF)\n",
    "        opportunityDic[typeID].append(int(jobsNumber/jobsTotalNumber*10000)/100)\n",
    "#         print(\"    \" +  str(jobsNumber) + \" jobs are accessible, which is \" + str(int(jobsNumber/jobsTotalNumber*10000)/100) +\"% of all Columbus jobs in the \" + typeIDMeaningDic[typeID] + \" scenario.\")\n"
   ]
  },
  {
   "cell_type": "code",
   "execution_count": 8,
   "metadata": {},
   "outputs": [
    {
     "data": {
      "image/png": "[encoded data removed]",
      "text/plain": [
       "<Figure size 432x288 with 1 Axes>"
      ]
     },
     "metadata": {
      "needs_background": "light"
     },
     "output_type": "display_data"
    }
   ],
   "source": [
    "# importing package\n",
    "import matplotlib.pyplot as plt\n",
    "import numpy as np\n",
    "\n",
    "# create data\n",
    "x = np.arange(len(timeBudgetList))\n",
    "width = 0.2\n",
    "  \n",
    "# plot data in grouped manner of bar type\n",
    "for typeIDIndex in range(len(typeIDList)):\n",
    "    typeID = typeIDList[typeIDIndex]\n",
    "    \n",
    "    plt.bar(x + width * (typeIDIndex - 1), opportunityDic[typeID], width, color=colorDic[typeID])\n",
    "plt.xticks(x, timeBudgetList)\n",
    "plt.xlabel(\"Time Budget (min)\")\n",
    "plt.ylabel(\"Percent of Jobs Accessible (%)\")\n",
    "plt.legend((typeIDMeaningDic.values()))\n",
    "plt.show()"
   ]
  },
  {
   "cell_type": "code",
   "execution_count": null,
   "metadata": {},
   "outputs": [],
   "source": []
  }
 ],
 "metadata": {
  "kernelspec": {
   "display_name": "Python 3 (ipykernel)",
   "language": "python",
   "name": "python3"
  },
  "language_info": {
   "codemirror_mode": {
    "name": "ipython",
    "version": 3
   },
   "file_extension": ".py",
   "mimetype": "text/x-python",
   "name": "python",
   "nbconvert_exporter": "python",
   "pygments_lexer": "ipython3",
   "version": "3.9.7"
  }
 },
 "nbformat": 4,
 "nbformat_minor": 2
}
